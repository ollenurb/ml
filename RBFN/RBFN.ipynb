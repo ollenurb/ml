{
 "cells": [
  {
   "cell_type": "markdown",
   "metadata": {},
   "source": [
    "# Radial Basis Function Networks\n",
    "In this Notebook we will implement and test a simple RBFN. As always, we will start by defining the model class. To create a RBFN, we need to store the following parameters:\n",
    "* Centers and spread of the Radial Basis Functions $\\mathbf{t} \\in \\mathbb{R}^{(h \\times i)}$, $\\sigma \\in \\mathbb{R}$\n",
    "* Weights between the hidden layer and the output layer $W \\in \\mathbb{R}^{(o \\times h)}$\n",
    "\n",
    "(where $o, i$ and $h$ are respectively the number of *input* units, *output* units and the number of *hidden* units)\n",
    "\n",
    "We also define $\\varphi$ (which is the RBF that will be used by the hidden units) as the *Gaussian*."
   ]
  },
  {
   "cell_type": "code",
   "execution_count": 79,
   "metadata": {},
   "outputs": [],
   "source": [
    "import numpy as np\n",
    "import matplotlib.pyplot as plt \n",
    "\n",
    "# Model class\n",
    "class RBFN:\n",
    "    # We must define the number of input units, the number of hidden units and the number of output units\n",
    "    def __init__(self, h):\n",
    "        self.h = h\n",
    "        self.trained = False\n",
    "    \n",
    "    def gaussian(d, sigma):\n",
    "        return exp(-d**2/(2*sigma)**2)\n",
    "\n",
    "    # Given a training set, determine the centers of the RBFs by mans of clustering\n",
    "    def initialize_centers(self, X, eta = 0.1, epochs = 1):\n",
    "        # Assign the centers randomly\n",
    "        self.t = np.random.rand(self.h, X.shape[1])\n",
    "        # An epoch defines an entire run of the dataset\n",
    "        for e in range(epochs):\n",
    "            for x_i in X:\n",
    "                # Get the closest center to x_i\n",
    "                dist = np.linalg.norm(x_i - self.t, axis=-1) \n",
    "                cmin = np.argmin(dist)\n",
    "                # Apply the correction\n",
    "                if(dist[cmin] != 0): self.t[cmin] += eta * (x_i - self.t[cmin])\n",
    "\n",
    "    # Initialize Sigma by normalization\n",
    "    def initialize_sigma(self):\n",
    "        # Compute pairwise distances, then take the maximum\n",
    "        p_dists = np.linalg.norm(self.t[None, :] - self.t[:, None], axis =-1)\n",
    "        d_max = np.max(p_dists)\n",
    "        # initialize sigma\n",
    "        self.sigma = d_max**2 / np.sqrt(self.h)\n",
    "\n",
    "    # Training the network involves 3 main steps:\n",
    "    # * Initialize centers by means of clustering\n",
    "    # * Initialize sigma\n",
    "    # * Compute the weights with the pseudoinverse method\n",
    "    def train(self, X, y):\n",
    "        self.initialize_centers(X)\n",
    "        self.initialize_sigma()\n",
    "\n",
    "\n",
    "X = np.random.rand(50, 2)\n",
    "\n",
    "rbfn = RBFN(2)\n",
    "rbfn.initialize_centers(X)\n",
    "\n",
    "# plt.scatter(X[:, 0], X[:, 1])\n",
    "# plt.scatter(rbfn.t[:, 0], rbfn.t[:, 1])\n",
    "rbfn.initialize_sigma()"
   ]
  },
  {
   "cell_type": "code",
   "execution_count": null,
   "metadata": {},
   "outputs": [],
   "source": [
    "\n"
   ]
  },
  {
   "cell_type": "code",
   "execution_count": null,
   "metadata": {},
   "outputs": [],
   "source": []
  }
 ],
 "metadata": {
  "kernelspec": {
   "display_name": "Python 3.9.13 64-bit",
   "language": "python",
   "name": "python3"
  },
  "language_info": {
   "name": "python",
   "version": "3.9.13"
  },
  "orig_nbformat": 4,
  "vscode": {
   "interpreter": {
    "hash": "65c29ad5aca5a3bb3e5d127e63168b7aab28f3f9ef1d0b3e0ccb3ffebfe40c6e"
   }
  }
 },
 "nbformat": 4,
 "nbformat_minor": 2
}
